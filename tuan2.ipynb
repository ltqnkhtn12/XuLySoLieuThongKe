{
 "cells": [
  {
   "cell_type": "markdown",
   "metadata": {},
   "source": [
    "BÀI TẬP 10.26"
   ]
  },
  {
   "cell_type": "code",
   "execution_count": 4,
   "metadata": {},
   "outputs": [
    {
     "name": "stdout",
     "output_type": "stream",
     "text": [
      "Không có bằng chứng để bác bỏ giả thuyết H0.\n",
      "Giá trị thống kê F: 0.9231064975009611\n",
      "Giá trị F-quantile: 2.5150175270123296\n"
     ]
    }
   ],
   "source": [
    "import scipy.stats as stats\n",
    "\n",
    "# Dữ liệu\n",
    "# Nhập độ lệch chuẩn của công ty 1 và công ty 2\n",
    "s1 = float(input(\"Nhập độ lệch chuẩn của công ty 1: \"))\n",
    "s2 = float(input(\"Nhập độ lệch chuẩn của công ty 2: \"))\n",
    "\n",
    "# Nhập số lượng mẫu của công ty 1 và công ty 2\n",
    "n1 = int(input(\"Nhập số lượng mẫu của công ty 1: \"))\n",
    "n2 = int(input(\"Nhập số lượng mẫu của công ty 2: \"))\n",
    "\n",
    "# Nhập mức ý nghĩa alpha\n",
    "alpha = float(input(\"Nhập mức ý nghĩa alpha: \"))\n",
    "\n",
    "# Tính giá trị thống kê F\n",
    "F_statistic = (s1**2) / (s2**2)\n",
    "\n",
    "# Độ tự do của hai nhóm\n",
    "df1 = n1 - 1\n",
    "df2 = n2 - 1\n",
    "\n",
    "# Tính giá trị F-quantile cho mức ý nghĩa alpha và độ tự do\n",
    "F_critical = stats.f.ppf(1 - alpha, df1, df2)\n",
    "\n",
    "# Kiểm tra giả thuyết\n",
    "if F_statistic > F_critical or F_statistic < 1/F_critical:\n",
    "    print(\"Có bằng chứng để bác bỏ giả thuyết H0.\")\n",
    "else:\n",
    "    print(\"Không có bằng chứng để bác bỏ giả thuyết H0.\")\n",
    "\n",
    "# In ra giá trị thống kê F và giá trị F-quantile\n",
    "print(\"Giá trị thống kê F:\", F_statistic)\n",
    "print(\"Giá trị F-quantile:\", F_critical)\n"
   ]
  },
  {
   "cell_type": "markdown",
   "metadata": {},
   "source": [
    "BÀI TẬP 10.25"
   ]
  },
  {
   "cell_type": "code",
   "execution_count": 1,
   "metadata": {},
   "outputs": [
    {
     "name": "stdout",
     "output_type": "stream",
     "text": [
      "Không có bằng chứng để bác bỏ giả thuyết H0.\n",
      "Hai phương sai là giống nhau.\n",
      "Giá trị thống kê F: 0.6566587395957195\n",
      "Giá trị F-quantile: 3.122711726303326\n"
     ]
    }
   ],
   "source": [
    "import scipy.stats as stats\n",
    "\n",
    "# Nhập độ lệch chuẩn của công ty 1 và công ty 2\n",
    "s1 = float(input(\"Nhập độ lệch chuẩn của công ty 1: \"))\n",
    "s2 = float(input(\"Nhập độ lệch chuẩn của công ty 2: \"))\n",
    "\n",
    "# Nhập số lượng mẫu của công ty 1 và công ty 2\n",
    "n1 = int(input(\"Nhập số lượng mẫu của công ty 1: \"))\n",
    "n2 = int(input(\"Nhập số lượng mẫu của công ty 2: \"))\n",
    "\n",
    "# Nhập mức ý nghĩa alpha\n",
    "alpha = float(input(\"Nhập mức ý nghĩa alpha: \"))\n",
    "\n",
    "# Tính giá trị thống kê F\n",
    "F_statistic = (s1**2) / (s2**2)\n",
    "\n",
    "# Độ tự do của hai mẫu\n",
    "df1 = n1 - 1\n",
    "df2 = n2 - 1\n",
    "\n",
    "# Tính giá trị F-quantile cho mức ý nghĩa alpha và độ tự do\n",
    "F_critical = stats.f.ppf(1 - alpha/2, df1, df2)\n",
    "\n",
    "# Kiểm tra giả thuyết\n",
    "if F_statistic < 1/F_critical or F_statistic > F_critical:\n",
    "    print(\"Có bằng chứng để bác bỏ giả thuyết H0.\")\n",
    "    print(\"Hai phương sai là khác nhau.\")\n",
    "else:\n",
    "    print(\"Không có bằng chứng để bác bỏ giả thuyết H0.\")\n",
    "    print(\"Hai phương sai là giống nhau.\")\n",
    "\n",
    "# In ra giá trị thống kê F và giá trị F-quantile\n",
    "print(\"Giá trị thống kê F:\", F_statistic)\n",
    "print(\"Giá trị F-quantile:\", F_critical)\n"
   ]
  }
 ],
 "metadata": {
  "kernelspec": {
   "display_name": "base",
   "language": "python",
   "name": "python3"
  },
  "language_info": {
   "codemirror_mode": {
    "name": "ipython",
    "version": 3
   },
   "file_extension": ".py",
   "mimetype": "text/x-python",
   "name": "python",
   "nbconvert_exporter": "python",
   "pygments_lexer": "ipython3",
   "version": "3.11.4"
  },
  "orig_nbformat": 4
 },
 "nbformat": 4,
 "nbformat_minor": 2
}
